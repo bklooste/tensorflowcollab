{
  "nbformat": 4,
  "nbformat_minor": 0,
  "metadata": {
    "colab": {
      "name": "loadmodeltemplate.ipynb",
      "provenance": [],
      "authorship_tag": "ABX9TyM5612oGbUDjUKJzeBzspBt",
      "include_colab_link": true
    },
    "kernelspec": {
      "name": "python3",
      "display_name": "Python 3"
    }
  },
  "cells": [
    {
      "cell_type": "markdown",
      "metadata": {
        "id": "view-in-github",
        "colab_type": "text"
      },
      "source": [
        "<a href=\"https://colab.research.google.com/github/bklooste/tensorflowcollab/blob/master/loadmodeltemplate.ipynb\" target=\"_parent\"><img src=\"https://colab.research.google.com/assets/colab-badge.svg\" alt=\"Open In Colab\"/></a>"
      ]
    },
    {
      "cell_type": "code",
      "metadata": {
        "colab_type": "code",
        "id": "0trJmd6DjqBZ",
        "colab": {}
      },
      "source": [
        "import tensorflow as tf\n",
        "from tensorflow.keras import datasets, layers, models\n",
        "from tensorflow.keras.utils import to_categorical"
      ],
      "execution_count": 0,
      "outputs": []
    },
    {
      "cell_type": "code",
      "metadata": {
        "colab_type": "code",
        "id": "sq8fPglI1RWA",
        "colab": {
          "base_uri": "https://localhost:8080/",
          "height": 51
        },
        "outputId": "1348e492-2379-4aaf-be51-c202913cb99b"
      },
      "source": [
        "from google.colab import drive\n",
        "drive.mount('/content/gdrive')\n",
        "\n",
        "model_save_name = 'mnistconv.h5'\n",
        "#torch.save(model.state_dict(), path)\n",
        "\n",
        "\n",
        "!ls '/content/gdrive/My Drive/saved_models'\n",
        "path = F\"/content/gdrive/My Drive/saved_models/{model_save_name}\" \n",
        "\n",
        "#model.load(path) \n"
      ],
      "execution_count": 8,
      "outputs": [
        {
          "output_type": "stream",
          "text": [
            "Drive already mounted at /content/gdrive; to attempt to forcibly remount, call drive.mount(\"/content/gdrive\", force_remount=True).\n",
            "mnistconv.h5  mnistconv.pt\n"
          ],
          "name": "stdout"
        }
      ]
    },
    {
      "cell_type": "code",
      "metadata": {
        "id": "SaqJ224EleC-",
        "colab_type": "code",
        "colab": {}
      },
      "source": [
        "def margin_loss(y_true, y_pred):\n",
        "    \"\"\"\n",
        "    Margin loss for Eq.(4). When y_true[i, :] contains not just one `1`, this loss should work too. Not test it.\n",
        "    :param y_true: [None, n_classes]\n",
        "    :param y_pred: [None, num_capsule]\n",
        "    :return: a scalar loss value.\n",
        "    \"\"\"\n",
        "    # return tf.reduce_mean(tf.square(y_pred))\n",
        "    L = y_true * tf.square(tf.maximum(0., 0.9 - y_pred)) + \\\n",
        "        0.5 * (1 - y_true) * tf.square(tf.maximum(0., y_pred - 0.1))\n",
        "\n",
        "    return tf.reduce_mean(tf.reduce_sum(L, 1))\n"
      ],
      "execution_count": 0,
      "outputs": []
    },
    {
      "cell_type": "code",
      "metadata": {
        "colab_type": "code",
        "id": "0YofwHdN0pxa",
        "colab": {
          "base_uri": "https://localhost:8080/",
          "height": 323
        },
        "outputId": "6509eac7-b54b-48a9-9621-253ff0076986"
      },
      "source": [
        "new_model = tf.keras.models.load_model(path, custom_objects={'loss': margin_loss}, compile=False)\n",
        "#new_model = keras.models.load_model('model', custom_objects={'loss': custom_loss})\n",
        "\n",
        "# Check its architecture\n",
        "new_model.compile( loss = margin_loss, optimizer = tf.keras.optimizers.Adam())\n",
        "new_model.summary()\n",
        "\n",
        "\n",
        "#new_model =  tf.keras.models.load_model( 'mo.test', custom_objects = { 'Loss': Loss },compile=False)\n",
        "#new_model.compile( loss = Loss, optimizer = tf.keras.optimizers.Adam())"
      ],
      "execution_count": 15,
      "outputs": [
        {
          "output_type": "stream",
          "text": [
            "Model: \"sequential_8\"\n",
            "_________________________________________________________________\n",
            "Layer (type)                 Output Shape              Param #   \n",
            "=================================================================\n",
            "conv1 (Conv2D)               (32, 20, 20, 256)         20992     \n",
            "_________________________________________________________________\n",
            "max_pooling2d_2 (MaxPooling2 (32, 10, 10, 256)         0         \n",
            "_________________________________________________________________\n",
            "flatten_2 (Flatten)          (32, 25600)               0         \n",
            "_________________________________________________________________\n",
            "dense_4 (Dense)              (32, 64)                  1638464   \n",
            "_________________________________________________________________\n",
            "dense_5 (Dense)              (32, 10)                  650       \n",
            "=================================================================\n",
            "Total params: 1,660,106\n",
            "Trainable params: 1,660,106\n",
            "Non-trainable params: 0\n",
            "_________________________________________________________________\n"
          ],
          "name": "stdout"
        }
      ]
    },
    {
      "cell_type": "markdown",
      "metadata": {
        "id": "Z50Q-nb3ZV40",
        "colab_type": "text"
      },
      "source": [
        ""
      ]
    }
  ]
}