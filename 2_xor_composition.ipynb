{
  "nbformat": 4,
  "nbformat_minor": 0,
  "metadata": {
    "colab": {
      "name": "1-xor-composition.ipynb",
      "provenance": [],
      "collapsed_sections": [],
      "authorship_tag": "ABX9TyNGSFez1jWozyGlU5g/kp06",
      "include_colab_link": true
    },
    "kernelspec": {
      "name": "python3",
      "display_name": "Python 3"
    }
  },
  "cells": [
    {
      "cell_type": "markdown",
      "metadata": {
        "id": "view-in-github",
        "colab_type": "text"
      },
      "source": [
        "<a href=\"https://colab.research.google.com/github/bklooste/tensorflowcollab/blob/master/2_xor_composition.ipynb\" target=\"_parent\"><img src=\"https://colab.research.google.com/assets/colab-badge.svg\" alt=\"Open In Colab\"/></a>"
      ]
    },
    {
      "cell_type": "code",
      "metadata": {
        "id": "ycqb7vGCKppr",
        "colab_type": "code",
        "colab": {}
      },
      "source": [
        "try:\n",
        "  # %tensorflow_version only exists in Colab.\n",
        "  %tensorflow_version 2.x\n",
        "except Exception:\n",
        "  pass"
      ],
      "execution_count": 0,
      "outputs": []
    },
    {
      "cell_type": "code",
      "metadata": {
        "id": "7y-CY1xBKdxu",
        "colab_type": "code",
        "colab": {}
      },
      "source": [
        "X = [[0, 0], [0, 1], [1, 0], [1, 1]]\n",
        "y = [0, 1, 1, 0]\n",
        "\n"
      ],
      "execution_count": 0,
      "outputs": []
    },
    {
      "cell_type": "code",
      "metadata": {
        "id": "7K1dMLvLNQ8q",
        "colab_type": "code",
        "colab": {}
      },
      "source": [
        ""
      ],
      "execution_count": 0,
      "outputs": []
    },
    {
      "cell_type": "code",
      "metadata": {
        "colab_type": "code",
        "outputId": "db993ba7-ff80-4660-e982-2aa90eef3c20",
        "id": "_QboCm8pN9B2",
        "colab": {
          "base_uri": "https://localhost:8080/",
          "height": 51
        }
      },
      "source": [
        "# sgd cant do this with 1 node \n",
        "import tensorflow as tf\n",
        "import numpy as np\n",
        "\n",
        "X = np.array(X)\n",
        "y = np.array(y)\n",
        "\n",
        "model = tf.keras.models.Sequential([\n",
        "  tf.keras.layers.Dense(2, activation='relu'),\n",
        "])\n",
        "sgd = tf.keras.optimizers.SGD(learning_rate=0.1)\n",
        "model.compile(optimizer= sgd,\n",
        "              \n",
        "              loss='mean_squared_error',\n",
        "              metrics=['mean_squared_error'])\n",
        "model.fit(X, y, epochs=1000, verbose=0)\n",
        "_, acc = model.evaluate(X, y)\n",
        "print('acc = ' + str(acc))"
      ],
      "execution_count": 0,
      "outputs": [
        {
          "output_type": "stream",
          "text": [
            "\r4/4 [==============================] - 0s 14ms/sample - loss: 0.2500 - mean_squared_error: 0.2500\n",
            "acc = 0.25\n"
          ],
          "name": "stdout"
        }
      ]
    },
    {
      "cell_type": "code",
      "metadata": {
        "colab_type": "code",
        "outputId": "24141fc0-80e3-4f97-bbe9-639dc5c2ab0f",
        "id": "zTlgpXxbNRcL",
        "colab": {
          "base_uri": "https://localhost:8080/",
          "height": 258
        }
      },
      "source": [
        "import tensorflow as tf\n",
        "import numpy as np\n",
        "\n",
        "X = np.array(X)\n",
        "y = np.array(y)\n",
        "\n",
        "model = tf.keras.models.Sequential([\n",
        "  tf.keras.layers.Dense(2, activation='tanh', input_shape=(2,)),\n",
        "  tf.keras.layers.Dense(1, activation='sigmoid'),\n",
        "])\n",
        "sgd = tf.keras.optimizers.SGD(learning_rate=0.1)\n",
        "model.compile(optimizer=sgd,\n",
        "              loss='binary_crossentropy',\n",
        "              metrics=['accuracy'])\n",
        "model.fit(X, y, batch_size = 4, epochs=10000, verbose=0)\n",
        "_, acc = model.evaluate(X, y)\n",
        "print(model.predict_proba(X))\n",
        "print(model.get_weights())\n",
        "\n",
        "print(model.predict(X,batch_size=4))\n",
        "print('acc = ' + str(acc))"
      ],
      "execution_count": 0,
      "outputs": [
        {
          "output_type": "stream",
          "text": [
            "\r4/4 [==============================] - 0s 16ms/sample - loss: 0.0034 - accuracy: 1.0000\n",
            "[[0.00249011]\n",
            " [0.99557096]\n",
            " [0.9955421 ]\n",
            " [0.0021459 ]]\n",
            "[array([[-3.5277956, -3.8476021],\n",
            "       [ 3.6643307,  3.7548664]], dtype=float32), array([ 1.6859659, -1.8153247], dtype=float32), array([[-6.2194934],\n",
            "       [ 6.1956935]], dtype=float32), array([5.6895905], dtype=float32)]\n",
            "[[0.00249011]\n",
            " [0.99557096]\n",
            " [0.9955421 ]\n",
            " [0.0021459 ]]\n",
            "acc = 1.0\n"
          ],
          "name": "stdout"
        }
      ]
    },
    {
      "cell_type": "code",
      "metadata": {
        "id": "BpWrVLPzeUHV",
        "colab_type": "code",
        "colab": {}
      },
      "source": [
        ""
      ],
      "execution_count": 0,
      "outputs": []
    },
    {
      "cell_type": "code",
      "metadata": {
        "colab_type": "code",
        "outputId": "bc97cbfa-7c4d-49bd-f68e-36d566286c10",
        "id": "q_Yc3cxReUp8",
        "colab": {
          "base_uri": "https://localhost:8080/",
          "height": 1000
        }
      },
      "source": [
        "#adam much better but still 100 \n",
        "import tensorflow as tf\n",
        "import numpy as np\n",
        "\n",
        "X = np.array(X)\n",
        "y = np.array(y)\n",
        "\n",
        "model = tf.keras.models.Sequential([\n",
        "  tf.keras.layers.Dense(2, activation='tanh', input_shape=(2,)),\n",
        "  tf.keras.layers.Dense(1, activation='sigmoid'),\n",
        "])\n",
        "sgd = tf.keras.optimizers.Adam(learning_rate=0.1)\n",
        "model.compile(optimizer=sgd,\n",
        "              loss='binary_crossentropy',\n",
        "              metrics=['accuracy'])\n",
        "model.fit(X, y, batch_size = 4, epochs=100, verbose=1)\n",
        "_, acc = model.evaluate(X, y)\n",
        "print(model.predict_proba(X))\n",
        "print(model.get_weights())\n",
        "\n",
        "print(model.predict(X,batch_size=4))\n",
        "print('acc = ' + str(acc))"
      ],
      "execution_count": 0,
      "outputs": [
        {
          "output_type": "stream",
          "text": [
            "Train on 4 samples\n",
            "Epoch 1/100\n",
            "4/4 [==============================] - 0s 64ms/sample - loss: 0.7732 - accuracy: 0.5000\n",
            "Epoch 2/100\n",
            "4/4 [==============================] - 0s 891us/sample - loss: 0.7225 - accuracy: 0.2500\n",
            "Epoch 3/100\n",
            "4/4 [==============================] - 0s 1ms/sample - loss: 0.7095 - accuracy: 0.7500\n",
            "Epoch 4/100\n",
            "4/4 [==============================] - 0s 610us/sample - loss: 0.7138 - accuracy: 0.5000\n",
            "Epoch 5/100\n",
            "4/4 [==============================] - 0s 720us/sample - loss: 0.7129 - accuracy: 0.5000\n",
            "Epoch 6/100\n",
            "4/4 [==============================] - 0s 748us/sample - loss: 0.7062 - accuracy: 0.5000\n",
            "Epoch 7/100\n",
            "4/4 [==============================] - 0s 663us/sample - loss: 0.6995 - accuracy: 0.5000\n",
            "Epoch 8/100\n",
            "4/4 [==============================] - 0s 615us/sample - loss: 0.6959 - accuracy: 0.5000\n",
            "Epoch 9/100\n",
            "4/4 [==============================] - 0s 691us/sample - loss: 0.6954 - accuracy: 0.7500\n",
            "Epoch 10/100\n",
            "4/4 [==============================] - 0s 685us/sample - loss: 0.6962 - accuracy: 0.2500\n",
            "Epoch 11/100\n",
            "4/4 [==============================] - 0s 705us/sample - loss: 0.6967 - accuracy: 0.2500\n",
            "Epoch 12/100\n",
            "4/4 [==============================] - 0s 751us/sample - loss: 0.6965 - accuracy: 0.5000\n",
            "Epoch 13/100\n",
            "4/4 [==============================] - 0s 764us/sample - loss: 0.6958 - accuracy: 0.5000\n",
            "Epoch 14/100\n",
            "4/4 [==============================] - 0s 799us/sample - loss: 0.6953 - accuracy: 0.5000\n",
            "Epoch 15/100\n",
            "4/4 [==============================] - 0s 701us/sample - loss: 0.6948 - accuracy: 0.5000\n",
            "Epoch 16/100\n",
            "4/4 [==============================] - 0s 1ms/sample - loss: 0.6941 - accuracy: 0.5000\n",
            "Epoch 17/100\n",
            "4/4 [==============================] - 0s 922us/sample - loss: 0.6929 - accuracy: 0.5000\n",
            "Epoch 18/100\n",
            "4/4 [==============================] - 0s 894us/sample - loss: 0.6910 - accuracy: 0.5000\n",
            "Epoch 19/100\n",
            "4/4 [==============================] - 0s 708us/sample - loss: 0.6882 - accuracy: 0.5000\n",
            "Epoch 20/100\n",
            "4/4 [==============================] - 0s 643us/sample - loss: 0.6845 - accuracy: 0.7500\n",
            "Epoch 21/100\n",
            "4/4 [==============================] - 0s 996us/sample - loss: 0.6800 - accuracy: 0.7500\n",
            "Epoch 22/100\n",
            "4/4 [==============================] - 0s 847us/sample - loss: 0.6749 - accuracy: 0.7500\n",
            "Epoch 23/100\n",
            "4/4 [==============================] - 0s 790us/sample - loss: 0.6694 - accuracy: 0.7500\n",
            "Epoch 24/100\n",
            "4/4 [==============================] - 0s 638us/sample - loss: 0.6635 - accuracy: 0.7500\n",
            "Epoch 25/100\n",
            "4/4 [==============================] - 0s 643us/sample - loss: 0.6563 - accuracy: 0.7500\n",
            "Epoch 26/100\n",
            "4/4 [==============================] - 0s 859us/sample - loss: 0.6471 - accuracy: 0.7500\n",
            "Epoch 27/100\n",
            "4/4 [==============================] - 0s 740us/sample - loss: 0.6358 - accuracy: 0.7500\n",
            "Epoch 28/100\n",
            "4/4 [==============================] - 0s 666us/sample - loss: 0.6228 - accuracy: 0.7500\n",
            "Epoch 29/100\n",
            "4/4 [==============================] - 0s 874us/sample - loss: 0.6085 - accuracy: 0.7500\n",
            "Epoch 30/100\n",
            "4/4 [==============================] - 0s 696us/sample - loss: 0.5935 - accuracy: 0.7500\n",
            "Epoch 31/100\n",
            "4/4 [==============================] - 0s 1ms/sample - loss: 0.5787 - accuracy: 0.7500\n",
            "Epoch 32/100\n",
            "4/4 [==============================] - 0s 1ms/sample - loss: 0.5646 - accuracy: 0.7500\n",
            "Epoch 33/100\n",
            "4/4 [==============================] - 0s 757us/sample - loss: 0.5515 - accuracy: 0.7500\n",
            "Epoch 34/100\n",
            "4/4 [==============================] - 0s 727us/sample - loss: 0.5396 - accuracy: 0.7500\n",
            "Epoch 35/100\n",
            "4/4 [==============================] - 0s 707us/sample - loss: 0.5286 - accuracy: 0.7500\n",
            "Epoch 36/100\n",
            "4/4 [==============================] - 0s 1ms/sample - loss: 0.5184 - accuracy: 0.7500\n",
            "Epoch 37/100\n",
            "4/4 [==============================] - 0s 1ms/sample - loss: 0.5088 - accuracy: 0.7500\n",
            "Epoch 38/100\n",
            "4/4 [==============================] - 0s 965us/sample - loss: 0.4998 - accuracy: 0.7500\n",
            "Epoch 39/100\n",
            "4/4 [==============================] - 0s 1ms/sample - loss: 0.4913 - accuracy: 0.7500\n",
            "Epoch 40/100\n",
            "4/4 [==============================] - 0s 1ms/sample - loss: 0.4833 - accuracy: 0.7500\n",
            "Epoch 41/100\n",
            "4/4 [==============================] - 0s 1ms/sample - loss: 0.4756 - accuracy: 0.7500\n",
            "Epoch 42/100\n",
            "4/4 [==============================] - 0s 1ms/sample - loss: 0.4681 - accuracy: 0.7500\n",
            "Epoch 43/100\n",
            "4/4 [==============================] - 0s 3ms/sample - loss: 0.4605 - accuracy: 0.7500\n",
            "Epoch 44/100\n",
            "4/4 [==============================] - 0s 1ms/sample - loss: 0.4525 - accuracy: 0.7500\n",
            "Epoch 45/100\n",
            "4/4 [==============================] - 0s 1ms/sample - loss: 0.4439 - accuracy: 0.7500\n",
            "Epoch 46/100\n",
            "4/4 [==============================] - 0s 1ms/sample - loss: 0.4342 - accuracy: 0.7500\n",
            "Epoch 47/100\n",
            "4/4 [==============================] - 0s 1ms/sample - loss: 0.4234 - accuracy: 0.7500\n",
            "Epoch 48/100\n",
            "4/4 [==============================] - 0s 1ms/sample - loss: 0.4114 - accuracy: 0.7500\n",
            "Epoch 49/100\n",
            "4/4 [==============================] - 0s 1ms/sample - loss: 0.3981 - accuracy: 0.7500\n",
            "Epoch 50/100\n",
            "4/4 [==============================] - 0s 1ms/sample - loss: 0.3835 - accuracy: 0.7500\n",
            "Epoch 51/100\n",
            "4/4 [==============================] - 0s 1ms/sample - loss: 0.3671 - accuracy: 0.7500\n",
            "Epoch 52/100\n",
            "4/4 [==============================] - 0s 1ms/sample - loss: 0.3488 - accuracy: 0.7500\n",
            "Epoch 53/100\n",
            "4/4 [==============================] - 0s 1ms/sample - loss: 0.3287 - accuracy: 0.7500\n",
            "Epoch 54/100\n",
            "4/4 [==============================] - 0s 2ms/sample - loss: 0.3074 - accuracy: 1.0000\n",
            "Epoch 55/100\n",
            "4/4 [==============================] - 0s 2ms/sample - loss: 0.2857 - accuracy: 1.0000\n",
            "Epoch 56/100\n",
            "4/4 [==============================] - 0s 1ms/sample - loss: 0.2637 - accuracy: 1.0000\n",
            "Epoch 57/100\n",
            "4/4 [==============================] - 0s 1ms/sample - loss: 0.2420 - accuracy: 1.0000\n",
            "Epoch 58/100\n",
            "4/4 [==============================] - 0s 1ms/sample - loss: 0.2211 - accuracy: 1.0000\n",
            "Epoch 59/100\n",
            "4/4 [==============================] - 0s 1ms/sample - loss: 0.2016 - accuracy: 1.0000\n",
            "Epoch 60/100\n",
            "4/4 [==============================] - 0s 1ms/sample - loss: 0.1835 - accuracy: 1.0000\n",
            "Epoch 61/100\n",
            "4/4 [==============================] - 0s 1ms/sample - loss: 0.1667 - accuracy: 1.0000\n",
            "Epoch 62/100\n",
            "4/4 [==============================] - 0s 1ms/sample - loss: 0.1513 - accuracy: 1.0000\n",
            "Epoch 63/100\n",
            "4/4 [==============================] - 0s 1ms/sample - loss: 0.1373 - accuracy: 1.0000\n",
            "Epoch 64/100\n",
            "4/4 [==============================] - 0s 1ms/sample - loss: 0.1247 - accuracy: 1.0000\n",
            "Epoch 65/100\n",
            "4/4 [==============================] - 0s 1ms/sample - loss: 0.1133 - accuracy: 1.0000\n",
            "Epoch 66/100\n",
            "4/4 [==============================] - 0s 1ms/sample - loss: 0.1029 - accuracy: 1.0000\n",
            "Epoch 67/100\n",
            "4/4 [==============================] - 0s 1ms/sample - loss: 0.0934 - accuracy: 1.0000\n",
            "Epoch 68/100\n",
            "4/4 [==============================] - 0s 1ms/sample - loss: 0.0849 - accuracy: 1.0000\n",
            "Epoch 69/100\n",
            "4/4 [==============================] - 0s 1ms/sample - loss: 0.0773 - accuracy: 1.0000\n",
            "Epoch 70/100\n",
            "4/4 [==============================] - 0s 1ms/sample - loss: 0.0704 - accuracy: 1.0000\n",
            "Epoch 71/100\n",
            "4/4 [==============================] - 0s 854us/sample - loss: 0.0641 - accuracy: 1.0000\n",
            "Epoch 72/100\n",
            "4/4 [==============================] - 0s 1ms/sample - loss: 0.0586 - accuracy: 1.0000\n",
            "Epoch 73/100\n",
            "4/4 [==============================] - 0s 1ms/sample - loss: 0.0536 - accuracy: 1.0000\n",
            "Epoch 74/100\n",
            "4/4 [==============================] - 0s 1ms/sample - loss: 0.0492 - accuracy: 1.0000\n",
            "Epoch 75/100\n",
            "4/4 [==============================] - 0s 2ms/sample - loss: 0.0453 - accuracy: 1.0000\n",
            "Epoch 76/100\n",
            "4/4 [==============================] - 0s 1ms/sample - loss: 0.0418 - accuracy: 1.0000\n",
            "Epoch 77/100\n",
            "4/4 [==============================] - 0s 1ms/sample - loss: 0.0387 - accuracy: 1.0000\n",
            "Epoch 78/100\n",
            "4/4 [==============================] - 0s 1ms/sample - loss: 0.0360 - accuracy: 1.0000\n",
            "Epoch 79/100\n",
            "4/4 [==============================] - 0s 1ms/sample - loss: 0.0336 - accuracy: 1.0000\n",
            "Epoch 80/100\n",
            "4/4 [==============================] - 0s 1ms/sample - loss: 0.0314 - accuracy: 1.0000\n",
            "Epoch 81/100\n",
            "4/4 [==============================] - 0s 1ms/sample - loss: 0.0295 - accuracy: 1.0000\n",
            "Epoch 82/100\n",
            "4/4 [==============================] - 0s 2ms/sample - loss: 0.0278 - accuracy: 1.0000\n",
            "Epoch 83/100\n",
            "4/4 [==============================] - 0s 882us/sample - loss: 0.0263 - accuracy: 1.0000\n",
            "Epoch 84/100\n",
            "4/4 [==============================] - 0s 1ms/sample - loss: 0.0249 - accuracy: 1.0000\n",
            "Epoch 85/100\n",
            "4/4 [==============================] - 0s 1ms/sample - loss: 0.0237 - accuracy: 1.0000\n",
            "Epoch 86/100\n",
            "4/4 [==============================] - 0s 1ms/sample - loss: 0.0226 - accuracy: 1.0000\n",
            "Epoch 87/100\n",
            "4/4 [==============================] - 0s 843us/sample - loss: 0.0216 - accuracy: 1.0000\n",
            "Epoch 88/100\n",
            "4/4 [==============================] - 0s 1ms/sample - loss: 0.0206 - accuracy: 1.0000\n",
            "Epoch 89/100\n",
            "4/4 [==============================] - 0s 1ms/sample - loss: 0.0198 - accuracy: 1.0000\n",
            "Epoch 90/100\n",
            "4/4 [==============================] - 0s 1ms/sample - loss: 0.0190 - accuracy: 1.0000\n",
            "Epoch 91/100\n",
            "4/4 [==============================] - 0s 2ms/sample - loss: 0.0183 - accuracy: 1.0000\n",
            "Epoch 92/100\n",
            "4/4 [==============================] - 0s 1ms/sample - loss: 0.0177 - accuracy: 1.0000\n",
            "Epoch 93/100\n",
            "4/4 [==============================] - 0s 1ms/sample - loss: 0.0170 - accuracy: 1.0000\n",
            "Epoch 94/100\n",
            "4/4 [==============================] - 0s 2ms/sample - loss: 0.0165 - accuracy: 1.0000\n",
            "Epoch 95/100\n",
            "4/4 [==============================] - 0s 836us/sample - loss: 0.0160 - accuracy: 1.0000\n",
            "Epoch 96/100\n",
            "4/4 [==============================] - 0s 865us/sample - loss: 0.0155 - accuracy: 1.0000\n",
            "Epoch 97/100\n",
            "4/4 [==============================] - 0s 1ms/sample - loss: 0.0150 - accuracy: 1.0000\n",
            "Epoch 98/100\n",
            "4/4 [==============================] - 0s 1ms/sample - loss: 0.0146 - accuracy: 1.0000\n",
            "Epoch 99/100\n",
            "4/4 [==============================] - 0s 949us/sample - loss: 0.0142 - accuracy: 1.0000\n",
            "Epoch 100/100\n",
            "4/4 [==============================] - 0s 1ms/sample - loss: 0.0138 - accuracy: 1.0000\n",
            "4/4 [==============================] - 0s 16ms/sample - loss: 0.0135 - accuracy: 1.0000\n",
            "[[0.01514867]\n",
            " [0.9915662 ]\n",
            " [0.9918065 ]\n",
            " [0.02168923]]\n",
            "[array([[ 5.0804253, -2.5047328],\n",
            "       [ 4.9474506, -2.5054274]], dtype=float32), array([-2.727905 ,  3.5388799], dtype=float32), array([[5.131387 ],\n",
            "       [5.1911755]], dtype=float32), array([-4.2692637], dtype=float32)]\n",
            "[[0.01514867]\n",
            " [0.9915662 ]\n",
            " [0.9918065 ]\n",
            " [0.02168923]]\n",
            "acc = 1.0\n"
          ],
          "name": "stdout"
        }
      ]
    },
    {
      "cell_type": "code",
      "metadata": {
        "id": "gq_00mdoeVUI",
        "colab_type": "code",
        "colab": {}
      },
      "source": [
        ""
      ],
      "execution_count": 0,
      "outputs": []
    },
    {
      "cell_type": "code",
      "metadata": {
        "colab_type": "code",
        "id": "NnG_P4pahcFJ",
        "colab": {}
      },
      "source": [
        "#what we do here is a tf.function so a human programmer can add value and compose . \n",
        "# tensorflow does most of thew heavy lifting \n",
        "\n",
        "# a human being knows here that the number of 0s and 1s in the input are important "
      ],
      "execution_count": 0,
      "outputs": []
    }
  ]
}