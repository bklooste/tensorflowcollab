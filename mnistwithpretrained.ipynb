{
  "nbformat": 4,
  "nbformat_minor": 0,
  "metadata": {
    "colab": {
      "name": "loadmodeltemplate.ipynb",
      "provenance": [],
      "collapsed_sections": [],
      "authorship_tag": "ABX9TyPMsmL+mgqAgbv7O70S4vp0",
      "include_colab_link": true
    },
    "kernelspec": {
      "name": "python3",
      "display_name": "Python 3"
    }
  },
  "cells": [
    {
      "cell_type": "markdown",
      "metadata": {
        "id": "view-in-github",
        "colab_type": "text"
      },
      "source": [
        "<a href=\"https://colab.research.google.com/github/bklooste/tensorflowcollab/blob/master/mnistwithpretrained.ipynb\" target=\"_parent\"><img src=\"https://colab.research.google.com/assets/colab-badge.svg\" alt=\"Open In Colab\"/></a>"
      ]
    },
    {
      "cell_type": "code",
      "metadata": {
        "colab_type": "code",
        "id": "0trJmd6DjqBZ",
        "colab": {}
      },
      "source": [
        "import tensorflow as tf\n",
        "from tensorflow.keras import datasets, layers, models, Model\n",
        "from tensorflow.keras.utils import to_categorical"
      ],
      "execution_count": 0,
      "outputs": []
    },
    {
      "cell_type": "code",
      "metadata": {
        "colab_type": "code",
        "id": "sq8fPglI1RWA",
        "colab": {
          "base_uri": "https://localhost:8080/",
          "height": 71
        },
        "outputId": "0ffd5ff3-b012-4658-b065-fa0d621a4ccf"
      },
      "source": [
        "from google.colab import drive\n",
        "drive.mount('/content/gdrive')\n",
        "\n",
        "model_save_name = 'mnistconv.h5'\n",
        "#torch.save(model.state_dict(), path)\n",
        "\n",
        "\n",
        "!ls '/content/gdrive/My Drive/saved_models'\n",
        "path = F\"/content/gdrive/My Drive/saved_models/{model_save_name}\" \n",
        "\n",
        "#model.load(path) \n"
      ],
      "execution_count": 23,
      "outputs": [
        {
          "output_type": "stream",
          "text": [
            "Drive already mounted at /content/gdrive; to attempt to forcibly remount, call drive.mount(\"/content/gdrive\", force_remount=True).\n",
            "mnistconv.h5  mnistconv.pt\n"
          ],
          "name": "stdout"
        }
      ]
    },
    {
      "cell_type": "code",
      "metadata": {
        "id": "SaqJ224EleC-",
        "colab_type": "code",
        "colab": {}
      },
      "source": [
        "def margin_loss(y_true, y_pred):\n",
        "    \"\"\"\n",
        "    Margin loss for Eq.(4). When y_true[i, :] contains not just one `1`, this loss should work too. Not test it.\n",
        "    :param y_true: [None, n_classes]\n",
        "    :param y_pred: [None, num_capsule]\n",
        "    :return: a scalar loss value.\n",
        "    \"\"\"\n",
        "    # return tf.reduce_mean(tf.square(y_pred))\n",
        "    L = y_true * tf.square(tf.maximum(0., 0.9 - y_pred)) + \\\n",
        "        0.5 * (1 - y_true) * tf.square(tf.maximum(0., y_pred - 0.1))\n",
        "\n",
        "    return tf.reduce_mean(tf.reduce_sum(L, 1))\n"
      ],
      "execution_count": 0,
      "outputs": []
    },
    {
      "cell_type": "code",
      "metadata": {
        "colab_type": "code",
        "id": "0YofwHdN0pxa",
        "colab": {
          "base_uri": "https://localhost:8080/",
          "height": 323
        },
        "outputId": "ddc17e1e-23bd-439d-d818-2d40b463528e"
      },
      "source": [
        "base_model = tf.keras.models.load_model(path, custom_objects={'loss': margin_loss}, compile=False)\n",
        "\n",
        "# Check its architecture\n",
        "base_model.compile( loss = margin_loss, optimizer = tf.keras.optimizers.Adam())\n",
        "base_model.trainable = False\n",
        "\n",
        "# Let's take a look at the base model architecture\n",
        "base_model.summary()\n",
        "\n"
      ],
      "execution_count": 25,
      "outputs": [
        {
          "output_type": "stream",
          "text": [
            "Model: \"sequential_8\"\n",
            "_________________________________________________________________\n",
            "Layer (type)                 Output Shape              Param #   \n",
            "=================================================================\n",
            "conv1 (Conv2D)               (32, 20, 20, 256)         20992     \n",
            "_________________________________________________________________\n",
            "max_pooling2d_2 (MaxPooling2 (32, 10, 10, 256)         0         \n",
            "_________________________________________________________________\n",
            "flatten_2 (Flatten)          (32, 25600)               0         \n",
            "_________________________________________________________________\n",
            "dense_4 (Dense)              (32, 64)                  1638464   \n",
            "_________________________________________________________________\n",
            "dense_5 (Dense)              (32, 10)                  650       \n",
            "=================================================================\n",
            "Total params: 1,660,106\n",
            "Trainable params: 0\n",
            "Non-trainable params: 1,660,106\n",
            "_________________________________________________________________\n"
          ],
          "name": "stdout"
        }
      ]
    },
    {
      "cell_type": "markdown",
      "metadata": {
        "id": "Z50Q-nb3ZV40",
        "colab_type": "text"
      },
      "source": [
        ""
      ]
    },
    {
      "cell_type": "code",
      "metadata": {
        "id": "zU_pyCG6qRWF",
        "colab_type": "code",
        "colab": {
          "base_uri": "https://localhost:8080/",
          "height": 323
        },
        "outputId": "a3e2b858-544c-4b08-ddc3-2abdb65cd2c6"
      },
      "source": [
        "# cause i screwed up and had extra layers in the base\n",
        "layer_name = 'conv1'\n",
        "intermediate_base_model = Model(inputs=base_model.input,\n",
        "                                  outputs=base_model.get_layer(layer_name).output)\n",
        "\n",
        "model = models.Sequential()\n",
        "model.add(intermediate_base_model)\n",
        "model.add(layers.MaxPooling2D((2, 2)))\n",
        "model.add(layers.Flatten())\n",
        "model.add(layers.Dense(64, activation='relu'))\n",
        "model.add(layers.Dense(10))\n",
        "model.summary()\n",
        "\n",
        "# model = tf.keras.Sequential([\n",
        "#   base_model,\n",
        "#   global_average_layer,\n",
        "#   prediction_layer\n",
        "# ])"
      ],
      "execution_count": 26,
      "outputs": [
        {
          "output_type": "stream",
          "text": [
            "Model: \"sequential_1\"\n",
            "_________________________________________________________________\n",
            "Layer (type)                 Output Shape              Param #   \n",
            "=================================================================\n",
            "model_1 (Model)              (32, 20, 20, 256)         20992     \n",
            "_________________________________________________________________\n",
            "max_pooling2d_1 (MaxPooling2 (32, 10, 10, 256)         0         \n",
            "_________________________________________________________________\n",
            "flatten_1 (Flatten)          (32, 25600)               0         \n",
            "_________________________________________________________________\n",
            "dense_2 (Dense)              (32, 64)                  1638464   \n",
            "_________________________________________________________________\n",
            "dense_3 (Dense)              (32, 10)                  650       \n",
            "=================================================================\n",
            "Total params: 1,660,106\n",
            "Trainable params: 1,639,114\n",
            "Non-trainable params: 20,992\n",
            "_________________________________________________________________\n"
          ],
          "name": "stdout"
        }
      ]
    },
    {
      "cell_type": "code",
      "metadata": {
        "id": "DLO7A5DPnWAe",
        "colab_type": "code",
        "colab": {
          "base_uri": "https://localhost:8080/",
          "height": 51
        },
        "outputId": "b5801cd2-8012-4a49-b07e-f008426c1302"
      },
      "source": [
        "mnist = tf.keras.datasets.mnist\n",
        "\n",
        "(x_train, y_train), (x_test, y_test) = mnist.load_data()\n",
        "\n",
        "x_train = x_train.reshape(-1, 28, 28, 1).astype('float32') / 255.\n",
        "x_test = x_test.reshape(-1, 28, 28, 1).astype('float32') / 255.\n",
        "y_train = to_categorical(y_train.astype('float32'))\n",
        "y_test = to_categorical(y_test.astype('float32'))\n",
        "#x_train, x_test = x_train / 255.0, x_test / 255.0"
      ],
      "execution_count": 27,
      "outputs": [
        {
          "output_type": "stream",
          "text": [
            "Downloading data from https://storage.googleapis.com/tensorflow/tf-keras-datasets/mnist.npz\n",
            "11493376/11490434 [==============================] - 0s 0us/step\n"
          ],
          "name": "stdout"
        }
      ]
    },
    {
      "cell_type": "code",
      "metadata": {
        "id": "lQy1ICxynwMw",
        "colab_type": "code",
        "colab": {}
      },
      "source": [
        "am_recon=0.392\n",
        "\n",
        "model.compile(optimizer='adam',\n",
        "              loss=[margin_loss, 'mse'],\n",
        "              loss_weights=[1., am_recon],\n",
        "              metrics=['accuracy'])"
      ],
      "execution_count": 0,
      "outputs": []
    },
    {
      "cell_type": "code",
      "metadata": {
        "id": "Dv7zbd_onWV_",
        "colab_type": "code",
        "colab": {
          "base_uri": "https://localhost:8080/",
          "height": 204
        },
        "outputId": "a8acc9e2-db04-4ec4-846a-48d0d83158d3"
      },
      "source": [
        "model.fit(x_train, y_train, epochs=5)"
      ],
      "execution_count": 30,
      "outputs": [
        {
          "output_type": "stream",
          "text": [
            "Epoch 1/5\n",
            "1875/1875 [==============================] - 42s 23ms/step - loss: 0.0187 - accuracy: 0.9836\n",
            "Epoch 2/5\n",
            "1875/1875 [==============================] - 42s 22ms/step - loss: 0.0052 - accuracy: 0.9954\n",
            "Epoch 3/5\n",
            "1875/1875 [==============================] - 42s 22ms/step - loss: 0.0031 - accuracy: 0.9974\n",
            "Epoch 4/5\n",
            "1875/1875 [==============================] - 42s 22ms/step - loss: 0.0021 - accuracy: 0.9986\n",
            "Epoch 5/5\n",
            "1875/1875 [==============================] - 42s 22ms/step - loss: 0.0024 - accuracy: 0.9985\n"
          ],
          "name": "stdout"
        },
        {
          "output_type": "execute_result",
          "data": {
            "text/plain": [
              "<tensorflow.python.keras.callbacks.History at 0x7f99c6e31048>"
            ]
          },
          "metadata": {
            "tags": []
          },
          "execution_count": 30
        }
      ]
    },
    {
      "cell_type": "code",
      "metadata": {
        "id": "1-zlJfgas4hL",
        "colab_type": "code",
        "colab": {}
      },
      "source": [
        "# need to try both  pooling and capsule trained networks \n",
        "\n",
        "#  So what we do is take the conv network , train with 0 to 8 ,\n",
        "# than add 9 see the reusult.\n",
        "# add some more neurons try again \n",
        "#suspect both will have issues then try shake and bake\n",
        "\n",
        "# use different notebooks\n",
        "\n",
        "#then try the same for capsule networks "
      ],
      "execution_count": 0,
      "outputs": []
    },
    {
      "cell_type": "markdown",
      "metadata": {
        "id": "9TdgMLDCnU9t",
        "colab_type": "text"
      },
      "source": [
        ""
      ]
    },
    {
      "cell_type": "code",
      "metadata": {
        "id": "7UC9L1P3tYDH",
        "colab_type": "code",
        "colab": {
          "base_uri": "https://localhost:8080/",
          "height": 51
        },
        "outputId": "c8fdd6ae-f083-479a-e785-efb159a5dab0"
      },
      "source": [
        "model.evaluate(x_test,  y_test, verbose=2)"
      ],
      "execution_count": 31,
      "outputs": [
        {
          "output_type": "stream",
          "text": [
            "313/313 - 5s - loss: 0.0174 - accuracy: 0.9890\n"
          ],
          "name": "stdout"
        },
        {
          "output_type": "execute_result",
          "data": {
            "text/plain": [
              "[0.017385095357894897, 0.9890175461769104]"
            ]
          },
          "metadata": {
            "tags": []
          },
          "execution_count": 31
        }
      ]
    },
    {
      "cell_type": "code",
      "metadata": {
        "id": "MWA8VogcoCTy",
        "colab_type": "code",
        "colab": {
          "base_uri": "https://localhost:8080/",
          "height": 221
        },
        "outputId": "2fa6e91f-0c58-4f35-bd60-f2a8b892657d"
      },
      "source": [
        "probability_model = tf.keras.Sequential([\n",
        "  model,\n",
        "  tf.keras.layers.Softmax()\n",
        "])\n",
        "probability_model.summary()"
      ],
      "execution_count": 32,
      "outputs": [
        {
          "output_type": "stream",
          "text": [
            "Model: \"sequential_2\"\n",
            "_________________________________________________________________\n",
            "Layer (type)                 Output Shape              Param #   \n",
            "=================================================================\n",
            "sequential_1 (Sequential)    (32, 10)                  1660106   \n",
            "_________________________________________________________________\n",
            "softmax (Softmax)            (32, 10)                  0         \n",
            "=================================================================\n",
            "Total params: 1,660,106\n",
            "Trainable params: 1,639,114\n",
            "Non-trainable params: 20,992\n",
            "_________________________________________________________________\n"
          ],
          "name": "stdout"
        }
      ]
    },
    {
      "cell_type": "code",
      "metadata": {
        "id": "pQ8seIYEoDwa",
        "colab_type": "code",
        "colab": {
          "base_uri": "https://localhost:8080/",
          "height": 1000
        },
        "outputId": "f3bf0b7c-f803-4018-d329-18812b60e876"
      },
      "source": [
        "probability_model(x_test[:32])"
      ],
      "execution_count": 33,
      "outputs": [
        {
          "output_type": "execute_result",
          "data": {
            "text/plain": [
              "<tf.Tensor: shape=(32, 10), dtype=float32, numpy=\n",
              "array([[2.37217522e-04, 4.54253890e-03, 1.03620710e-02, 7.16515630e-03,\n",
              "        2.55332212e-03, 7.29817839e-04, 6.44535394e-05, 9.71943259e-01,\n",
              "        4.09561559e-04, 1.99262775e-03],\n",
              "       [2.69478100e-04, 9.20898019e-05, 9.99260366e-01, 5.11646340e-06,\n",
              "        4.31508779e-05, 2.69276643e-06, 6.48281275e-05, 2.14018310e-05,\n",
              "        5.59200453e-05, 1.85009383e-04],\n",
              "       [4.88716643e-04, 9.91415918e-01, 8.24047835e-04, 9.99032491e-05,\n",
              "        8.58804851e-04, 3.29593336e-03, 6.44594606e-04, 1.37863657e-03,\n",
              "        6.83921040e-04, 3.09527590e-04],\n",
              "       [9.08543468e-01, 1.44310463e-02, 2.52515939e-03, 1.38960350e-02,\n",
              "        1.02825277e-02, 6.58020843e-03, 1.94084775e-02, 8.09461623e-03,\n",
              "        3.98677681e-03, 1.22516463e-02],\n",
              "       [1.59934023e-03, 1.98725518e-03, 9.78483469e-04, 4.16089955e-04,\n",
              "        9.87470329e-01, 6.23942062e-04, 1.42019871e-03, 8.14167841e-04,\n",
              "        3.97015177e-03, 7.20130163e-04],\n",
              "       [6.50969218e-04, 9.89231169e-01, 1.49886997e-03, 1.51303931e-04,\n",
              "        7.90537393e-04, 3.26770986e-03, 5.04551339e-04, 2.00798339e-03,\n",
              "        1.21426128e-03, 6.82543090e-04],\n",
              "       [3.63855739e-03, 7.66885187e-03, 2.70695472e-03, 1.38075347e-03,\n",
              "        9.29884613e-01, 5.54250786e-03, 8.13060161e-03, 3.78069840e-03,\n",
              "        3.12826820e-02, 5.98381367e-03],\n",
              "       [2.40697656e-02, 7.54834199e-03, 2.35741213e-02, 4.65231063e-03,\n",
              "        6.01028129e-02, 5.72139164e-03, 6.27129711e-03, 2.55713030e-03,\n",
              "        1.58944037e-02, 8.49608541e-01],\n",
              "       [7.21655833e-03, 4.62156488e-03, 5.10485703e-03, 1.88103374e-02,\n",
              "        2.44850889e-02, 8.29789519e-01, 6.54793009e-02, 1.16658723e-02,\n",
              "        2.62749363e-02, 6.55186083e-03],\n",
              "       [3.52242449e-03, 3.64417955e-03, 1.23158970e-03, 5.83371334e-03,\n",
              "        3.62541601e-02, 6.67028502e-03, 5.02832513e-03, 1.45004475e-02,\n",
              "        1.02209887e-02, 9.13093865e-01],\n",
              "       [9.88629937e-01, 1.44580530e-03, 4.29325330e-04, 1.76753697e-03,\n",
              "        5.94206096e-04, 3.21400375e-03, 6.31244911e-04, 1.97028555e-03,\n",
              "        2.33212544e-04, 1.08443049e-03],\n",
              "       [1.28977597e-04, 3.05621186e-03, 1.59025207e-04, 4.52967535e-04,\n",
              "        1.13409842e-04, 2.81182071e-03, 9.91354167e-01, 4.22491314e-04,\n",
              "        1.49090274e-03, 9.91529396e-06],\n",
              "       [3.93870426e-03, 1.12106500e-03, 1.11103407e-03, 3.75196524e-03,\n",
              "        1.08893244e-02, 2.90484168e-03, 6.79939194e-03, 7.18297996e-03,\n",
              "        1.14352442e-02, 9.50865448e-01],\n",
              "       [9.72748995e-01, 3.19357053e-03, 1.23935030e-03, 2.82735331e-03,\n",
              "        5.70226787e-03, 4.92981169e-03, 2.17381376e-03, 2.39850953e-03,\n",
              "        1.23847299e-03, 3.54776368e-03],\n",
              "       [2.45196349e-03, 9.81622458e-01, 1.04077300e-03, 2.33282312e-03,\n",
              "        8.94878875e-04, 2.45136977e-03, 9.25002212e-04, 4.72459337e-03,\n",
              "        1.11994415e-03, 2.43611052e-03],\n",
              "       [2.86388531e-04, 9.54145100e-04, 6.53739960e-04, 1.32914865e-03,\n",
              "        1.04061665e-03, 9.84583735e-01, 7.25445617e-03, 5.54584374e-04,\n",
              "        3.22814076e-03, 1.15217998e-04],\n",
              "       [1.12019444e-03, 7.72467698e-04, 4.24892496e-04, 1.32117863e-03,\n",
              "        2.81830179e-03, 3.07002827e-03, 2.62862397e-03, 4.74116672e-03,\n",
              "        1.19766463e-02, 9.71126616e-01],\n",
              "       [1.65396210e-04, 6.55732816e-03, 1.37893492e-02, 6.97714137e-03,\n",
              "        1.99235952e-03, 3.69518821e-04, 3.57992685e-05, 9.68973517e-01,\n",
              "        1.76193527e-04, 9.63446219e-04],\n",
              "       [4.05216888e-02, 2.63492782e-02, 7.82354921e-02, 3.10335755e-01,\n",
              "        3.35860550e-02, 1.86172545e-01, 3.15820947e-02, 2.01200806e-02,\n",
              "        1.82826415e-01, 9.02705491e-02],\n",
              "       [8.93944118e-04, 1.13039336e-03, 6.28083770e-04, 4.19924821e-04,\n",
              "        9.94521976e-01, 3.69185640e-04, 3.79534002e-04, 8.68181000e-04,\n",
              "        4.71201696e-04, 3.17580299e-04],\n",
              "       [4.58060112e-03, 2.98314262e-02, 4.43755044e-03, 2.13131551e-02,\n",
              "        3.50066647e-02, 1.56764649e-02, 5.33376168e-03, 4.15247045e-02,\n",
              "        5.95570542e-03, 8.36339891e-01],\n",
              "       [2.19971477e-03, 1.17163255e-03, 1.08089240e-03, 1.37549057e-03,\n",
              "        1.00748520e-03, 1.86432395e-02, 9.71964896e-01, 1.16183551e-03,\n",
              "        1.02175435e-03, 3.73098854e-04],\n",
              "       [1.28281268e-03, 5.76983672e-03, 2.54095386e-04, 1.56088662e-03,\n",
              "        4.22571320e-03, 1.57178435e-02, 9.63249862e-01, 3.81800532e-03,\n",
              "        3.89141729e-03, 2.29472455e-04],\n",
              "       [5.95871476e-04, 6.54217147e-04, 8.02086666e-04, 4.47953725e-03,\n",
              "        9.50800255e-03, 9.70775366e-01, 9.54525266e-03, 1.08685810e-03,\n",
              "        6.01210282e-04, 1.95154164e-03],\n",
              "       [1.44908763e-02, 2.34735534e-02, 1.50727415e-02, 1.20585952e-02,\n",
              "        8.75662446e-01, 5.11177722e-03, 9.78378672e-03, 1.80238895e-02,\n",
              "        1.40370587e-02, 1.22851422e-02],\n",
              "       [7.57709920e-01, 2.64876653e-02, 9.82972048e-03, 3.03972028e-02,\n",
              "        2.46028882e-02, 3.38616446e-02, 3.38474289e-02, 2.36867592e-02,\n",
              "        1.40580889e-02, 4.55186330e-02],\n",
              "       [1.56256626e-03, 6.18351810e-03, 4.00968734e-03, 2.05774442e-03,\n",
              "        1.61388349e-02, 2.83938274e-03, 6.00109808e-04, 9.51070487e-01,\n",
              "        8.46101670e-04, 1.46914516e-02],\n",
              "       [1.95572898e-03, 1.22038077e-03, 4.05657542e-04, 1.36989795e-04,\n",
              "        9.93636489e-01, 1.32074405e-04, 3.83776816e-04, 3.37767910e-04,\n",
              "        1.53781881e-03, 2.53237376e-04],\n",
              "       [7.78076887e-01, 2.15901099e-02, 1.95983909e-02, 3.83113995e-02,\n",
              "        2.90401615e-02, 4.82344553e-02, 1.01484805e-02, 3.30882818e-02,\n",
              "        9.02044959e-03, 1.28914164e-02],\n",
              "       [2.11008755e-03, 9.77070451e-01, 1.75721117e-03, 1.71289640e-03,\n",
              "        1.15409319e-03, 2.36910605e-03, 3.88160202e-04, 1.08202379e-02,\n",
              "        1.49422069e-03, 1.12346327e-03],\n",
              "       [1.01478494e-04, 3.15608457e-03, 1.85801345e-03, 9.89864290e-01,\n",
              "        8.38871929e-04, 8.14316969e-04, 4.04455641e-04, 1.03622570e-03,\n",
              "        3.50538787e-04, 1.57584425e-03],\n",
              "       [9.27843340e-03, 9.62159097e-01, 1.86664867e-03, 8.25830211e-04,\n",
              "        8.76601506e-03, 2.78332271e-03, 2.36597215e-03, 5.58753219e-03,\n",
              "        2.31220946e-03, 4.05503856e-03]], dtype=float32)>"
            ]
          },
          "metadata": {
            "tags": []
          },
          "execution_count": 33
        }
      ]
    }
  ]
}