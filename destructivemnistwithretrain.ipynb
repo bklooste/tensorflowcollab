{
  "nbformat": 4,
  "nbformat_minor": 0,
  "metadata": {
    "colab": {
      "name": "mnistwithretrain.ipynb",
      "provenance": [],
      "collapsed_sections": [],
      "mount_file_id": "1O01vwhpFXswlQudW_clBujiyHZVDwEc8",
      "authorship_tag": "ABX9TyNGcZxms02Qc98KmRsWlUOu",
      "include_colab_link": true
    },
    "kernelspec": {
      "name": "python3",
      "display_name": "Python 3"
    },
    "accelerator": "GPU"
  },
  "cells": [
    {
      "cell_type": "markdown",
      "metadata": {
        "id": "view-in-github",
        "colab_type": "text"
      },
      "source": [
        "<a href=\"https://colab.research.google.com/github/bklooste/tensorflowcollab/blob/master/destructivemnistwithretrain.ipynb\" target=\"_parent\"><img src=\"https://colab.research.google.com/assets/colab-badge.svg\" alt=\"Open In Colab\"/></a>"
      ]
    },
    {
      "cell_type": "code",
      "metadata": {
        "colab_type": "code",
        "id": "0trJmd6DjqBZ",
        "colab": {}
      },
      "source": [
        "import tensorflow as tf\n",
        "from tensorflow.keras import datasets, layers, models, Model\n",
        "from tensorflow.keras.utils import to_categorical\n",
        "import numpy as np"
      ],
      "execution_count": 0,
      "outputs": []
    },
    {
      "cell_type": "code",
      "metadata": {
        "colab_type": "code",
        "id": "sq8fPglI1RWA",
        "colab": {}
      },
      "source": [
        "\n"
      ],
      "execution_count": 0,
      "outputs": []
    },
    {
      "cell_type": "code",
      "metadata": {
        "id": "SaqJ224EleC-",
        "colab_type": "code",
        "colab": {}
      },
      "source": [
        "def margin_loss(y_true, y_pred):\n",
        "    \"\"\"\n",
        "    Margin loss for Eq.(4). When y_true[i, :] contains not just one `1`, this loss should work too. Not test it.\n",
        "    :param y_true: [None, n_classes]\n",
        "    :param y_pred: [None, num_capsule]\n",
        "    :return: a scalar loss value.\n",
        "    \"\"\"\n",
        "    # return tf.reduce_mean(tf.square(y_pred))\n",
        "    L = y_true * tf.square(tf.maximum(0., 0.9 - y_pred)) + \\\n",
        "        0.5 * (1 - y_true) * tf.square(tf.maximum(0., y_pred - 0.1))\n",
        "\n",
        "    return tf.reduce_mean(tf.reduce_sum(L, 1))\n"
      ],
      "execution_count": 0,
      "outputs": []
    },
    {
      "cell_type": "code",
      "metadata": {
        "colab_type": "code",
        "id": "0YofwHdN0pxa",
        "outputId": "f4ee7e9a-3793-4e4c-82ce-3b73db824c02",
        "colab": {
          "base_uri": "https://localhost:8080/",
          "height": 238
        }
      },
      "source": [
        "from google.colab import drive\n",
        "#drive.mount('/content/gdrive')\n",
        "\n",
        "model_save_name = 'mnistconv.h5'\n",
        "\n",
        "\n",
        "!ls 'drive/My Drive/saved_models'\n",
        "path = F\"drive/My Drive/saved_models/{model_save_name}\" \n",
        "\n",
        "\n",
        "base_model = tf.keras.models.load_model(path, custom_objects={'loss': margin_loss}, compile=False)\n",
        "\n",
        "# Check its architecture\n",
        "base_model.compile( loss = margin_loss, optimizer = tf.keras.optimizers.Adam())\n",
        "base_model.trainable = False\n",
        "\n",
        "# Let's take a look at the base model architecture\n",
        "base_model.summary()\n",
        "\n"
      ],
      "execution_count": 4,
      "outputs": [
        {
          "output_type": "stream",
          "text": [
            "mnistconv.h5  mnistconv.pt  mnist.h5\n",
            "Model: \"model\"\n",
            "_________________________________________________________________\n",
            "Layer (type)                 Output Shape              Param #   \n",
            "=================================================================\n",
            "conv1_input (InputLayer)     [(None, 28, 28, 1)]       0         \n",
            "_________________________________________________________________\n",
            "conv1 (Conv2D)               (None, 20, 20, 256)       20992     \n",
            "=================================================================\n",
            "Total params: 20,992\n",
            "Trainable params: 0\n",
            "Non-trainable params: 20,992\n",
            "_________________________________________________________________\n"
          ],
          "name": "stdout"
        }
      ]
    },
    {
      "cell_type": "markdown",
      "metadata": {
        "id": "Z50Q-nb3ZV40",
        "colab_type": "text"
      },
      "source": [
        ""
      ]
    },
    {
      "cell_type": "code",
      "metadata": {
        "id": "zU_pyCG6qRWF",
        "colab_type": "code",
        "outputId": "8e7ca1be-1786-4b98-938a-2b3b0e69f48b",
        "colab": {
          "base_uri": "https://localhost:8080/",
          "height": 323
        }
      },
      "source": [
        "# fixed\n",
        "# cause i screwed up and had extra layers in the base\n",
        "#layer_name = 'conv1'\n",
        "#intermediate_base_model = Model(inputs=base_model.input,\n",
        "#                                  outputs=base_model.get_layer(layer_name).output)\n",
        "\n",
        "model = models.Sequential()\n",
        "model.add(base_model)\n",
        "model.add(layers.MaxPooling2D((2, 2)))\n",
        "model.add(layers.Flatten())\n",
        "model.add(layers.Dense(64, activation='relu'))\n",
        "model.add(layers.Dense(10))\n",
        "model.summary()\n",
        "\n",
        "# model = tf.keras.Sequential([\n",
        "#   base_model,\n",
        "#   global_average_layer,\n",
        "#   prediction_layer\n",
        "# ])"
      ],
      "execution_count": 5,
      "outputs": [
        {
          "output_type": "stream",
          "text": [
            "Model: \"sequential\"\n",
            "_________________________________________________________________\n",
            "Layer (type)                 Output Shape              Param #   \n",
            "=================================================================\n",
            "model (Model)                (None, 20, 20, 256)       20992     \n",
            "_________________________________________________________________\n",
            "max_pooling2d (MaxPooling2D) (None, 10, 10, 256)       0         \n",
            "_________________________________________________________________\n",
            "flatten (Flatten)            (None, 25600)             0         \n",
            "_________________________________________________________________\n",
            "dense (Dense)                (None, 64)                1638464   \n",
            "_________________________________________________________________\n",
            "dense_1 (Dense)              (None, 10)                650       \n",
            "=================================================================\n",
            "Total params: 1,660,106\n",
            "Trainable params: 1,639,114\n",
            "Non-trainable params: 20,992\n",
            "_________________________________________________________________\n"
          ],
          "name": "stdout"
        }
      ]
    },
    {
      "cell_type": "code",
      "metadata": {
        "id": "DLO7A5DPnWAe",
        "colab_type": "code",
        "outputId": "01b4dbd4-a57f-4c54-9993-5bc6685dfbe5",
        "colab": {
          "base_uri": "https://localhost:8080/",
          "height": 187
        }
      },
      "source": [
        "mnist = tf.keras.datasets.mnist\n",
        "\n",
        "(xtrain, ytrain), (xtest, ytest) = mnist.load_data()\n",
        "print('Xtrain shape: ',xtrain.shape)\n",
        "print('Xtest shape: ',np.shape(xtest ))\n",
        "print('ytrain shape: ',xtrain.shape)\n",
        "print('ytest shape: ',np.shape(ytest ))\n",
        "\n",
        "x_train = xtrain.reshape(-1, 28, 28, 1).astype('float32') / 255.\n",
        "x_test = xtest.reshape(-1, 28, 28, 1).astype('float32') / 255.\n",
        "y_train = to_categorical(ytrain.astype('float32'))\n",
        "y_test = to_categorical(ytest.astype('float32'))\n",
        "print('X_train shape: ',x_train.shape)\n",
        "print('X_test shape: ',np.shape(x_test ))\n",
        "print('y_train shape: ',y_train.shape)\n",
        "print('y_test shape: ',np.shape(y_test ))"
      ],
      "execution_count": 6,
      "outputs": [
        {
          "output_type": "stream",
          "text": [
            "Downloading data from https://storage.googleapis.com/tensorflow/tf-keras-datasets/mnist.npz\n",
            "11493376/11490434 [==============================] - 0s 0us/step\n",
            "Xtrain shape:  (60000, 28, 28)\n",
            "Xtest shape:  (10000, 28, 28)\n",
            "ytrain shape:  (60000, 28, 28)\n",
            "ytest shape:  (10000,)\n",
            "X_train shape:  (60000, 28, 28, 1)\n",
            "X_test shape:  (10000, 28, 28, 1)\n",
            "y_train shape:  (60000, 10)\n",
            "y_test shape:  (10000, 10)\n"
          ],
          "name": "stdout"
        }
      ]
    },
    {
      "cell_type": "code",
      "metadata": {
        "id": "jjnLRFL2pcqI",
        "colab_type": "code",
        "outputId": "b4b621f4-6264-4414-dc2e-f395c24895eb",
        "colab": {
          "base_uri": "https://localhost:8080/",
          "height": 170
        }
      },
      "source": [
        "train_filter = np.where(ytrain != 0 ) \n",
        "test_filter = np.where(ytest != 0) \n",
        "\n",
        "y_train_without0 = ytrain[train_filter]\n",
        "y_test_without0 =ytest[test_filter]\n",
        "\n",
        "x_train_without0 = xtrain[train_filter].reshape(-1, 28, 28, 1).astype('float32') / 255.\n",
        "x_test_without0 = xtest[test_filter].reshape(-1, 28, 28, 1).astype('float32') / 255.\n",
        "y_train_without0 = to_categorical(y_train_without0.astype('float32'))\n",
        "y_test_without0 = to_categorical(y_test_without0.astype('float32'))\n",
        "\n",
        "print('X_train_without shape: ',x_train_without0.shape)\n",
        "print('X_test_without shape: ',np.shape(x_test_without0 ))\n",
        "print('y_train_without shape: ',y_train_without0.shape)\n",
        "print('y_test_without shape: ',np.shape(y_test_without0 ))\n",
        "\n",
        "print(y_train_without0[:5])"
      ],
      "execution_count": 7,
      "outputs": [
        {
          "output_type": "stream",
          "text": [
            "X_train_without shape:  (54077, 28, 28, 1)\n",
            "X_test_without shape:  (9020, 28, 28, 1)\n",
            "y_train_without shape:  (54077, 10)\n",
            "y_test_without shape:  (9020, 10)\n",
            "[[0. 0. 0. 0. 0. 1. 0. 0. 0. 0.]\n",
            " [0. 0. 0. 0. 1. 0. 0. 0. 0. 0.]\n",
            " [0. 1. 0. 0. 0. 0. 0. 0. 0. 0.]\n",
            " [0. 0. 0. 0. 0. 0. 0. 0. 0. 1.]\n",
            " [0. 0. 1. 0. 0. 0. 0. 0. 0. 0.]]\n"
          ],
          "name": "stdout"
        }
      ]
    },
    {
      "cell_type": "code",
      "metadata": {
        "id": "lQy1ICxynwMw",
        "colab_type": "code",
        "colab": {}
      },
      "source": [
        "am_recon=0.392\n",
        "\n",
        "model.compile(optimizer='adam',\n",
        "              loss=[margin_loss, 'mse'],\n",
        "              loss_weights=[1., am_recon],\n",
        "              metrics=['accuracy'])"
      ],
      "execution_count": 0,
      "outputs": []
    },
    {
      "cell_type": "code",
      "metadata": {
        "id": "Dv7zbd_onWV_",
        "colab_type": "code",
        "outputId": "6cb76747-8e00-4b94-901e-0644a94e0ac2",
        "colab": {
          "base_uri": "https://localhost:8080/",
          "height": 204
        }
      },
      "source": [
        "#model.fit(x_train, y_train , epochs=5)\n",
        "model.fit(x_train_without0, y_train_without0 , epochs=5)"
      ],
      "execution_count": 9,
      "outputs": [
        {
          "output_type": "stream",
          "text": [
            "Epoch 1/5\n",
            "1690/1690 [==============================] - 9s 6ms/step - loss: 0.0180 - accuracy: 0.9828\n",
            "Epoch 2/5\n",
            "1690/1690 [==============================] - 9s 5ms/step - loss: 0.0052 - accuracy: 0.9955\n",
            "Epoch 3/5\n",
            "1690/1690 [==============================] - 9s 5ms/step - loss: 0.0034 - accuracy: 0.9974\n",
            "Epoch 4/5\n",
            "1690/1690 [==============================] - 9s 6ms/step - loss: 0.0022 - accuracy: 0.9983\n",
            "Epoch 5/5\n",
            "1690/1690 [==============================] - 9s 5ms/step - loss: 0.0021 - accuracy: 0.9987\n"
          ],
          "name": "stdout"
        },
        {
          "output_type": "execute_result",
          "data": {
            "text/plain": [
              "<tensorflow.python.keras.callbacks.History at 0x7fc327604898>"
            ]
          },
          "metadata": {
            "tags": []
          },
          "execution_count": 9
        }
      ]
    },
    {
      "cell_type": "code",
      "metadata": {
        "id": "1-zlJfgas4hL",
        "colab_type": "code",
        "colab": {}
      },
      "source": [
        "# need to try both  pooling and capsule trained networks \n",
        "\n",
        "#  So what we do is take the conv network , train with 0 to 8 ,\n",
        "# than add 9 see the reusult.\n",
        "# add some more neurons try again \n",
        "#suspect both will have issues then try shake and bake\n",
        "\n",
        "# use different notebooks\n",
        "\n",
        "#then try the same for capsule networks \n",
        "#measure diffierent ways of training .. \n",
        "\n",
        "#we dont have original data \n",
        "# train a new model and then merge them .. with simple shake and bake\n",
        "#ensure pass through .. \n",
        "# try a few  training cycles.,\n",
        "\n",
        "# just measure it  , create 2 new metrics \n",
        "# 1  smartness (S)  how well it learns with limited data \n",
        "# 2  learning hardness (LH)  how well it retains data   "
      ],
      "execution_count": 0,
      "outputs": []
    },
    {
      "cell_type": "markdown",
      "metadata": {
        "id": "9TdgMLDCnU9t",
        "colab_type": "text"
      },
      "source": [
        ""
      ]
    },
    {
      "cell_type": "code",
      "metadata": {
        "id": "Tw10mDFU9o9M",
        "colab_type": "code",
        "colab": {
          "base_uri": "https://localhost:8080/",
          "height": 85
        },
        "outputId": "ecd41465-9b41-42b8-e60c-cc6139746576"
      },
      "source": [
        "train_filter = np.where(ytrain == 0 ) \n",
        "test_filter = np.where(ytest == 0) \n",
        "\n",
        "y_train_with0 = ytrain[train_filter]\n",
        "y_test_with0 =ytest[test_filter]\n",
        "\n",
        "x_train_with0 = xtrain[train_filter].reshape(-1, 28, 28, 1).astype('float32') / 255.\n",
        "x_test_with0 = xtest[test_filter].reshape(-1, 28, 28, 1).astype('float32') / 255.\n",
        "y_train_with0 = to_categorical(y_train_with0.astype('float32'))\n",
        "y_test_with0 = to_categorical(y_test_with0.astype('float32'))\n",
        "\n",
        "print('X_train_with shape: ',x_train_with0.shape)\n",
        "print('X_test_with shape: ',np.shape(x_test_with0 ))\n",
        "print('y_train_with shape: ',y_train_with0.shape)\n",
        "print('y_test_with shape: ',np.shape(y_test_with0 ))\n"
      ],
      "execution_count": 16,
      "outputs": [
        {
          "output_type": "stream",
          "text": [
            "X_train_with shape:  (5923, 28, 28, 1)\n",
            "X_test_with shape:  (980, 28, 28, 1)\n",
            "y_train_with shape:  (5923, 1)\n",
            "y_test_with shape:  (980, 1)\n"
          ],
          "name": "stdout"
        }
      ]
    },
    {
      "cell_type": "code",
      "metadata": {
        "id": "7UC9L1P3tYDH",
        "colab_type": "code",
        "outputId": "d62da650-b7fd-479c-9e89-a81381f13d11",
        "colab": {
          "base_uri": "https://localhost:8080/",
          "height": 51
        }
      },
      "source": [
        "model.evaluate(x_test_without0,  y_test_without0, verbose=2)"
      ],
      "execution_count": 13,
      "outputs": [
        {
          "output_type": "stream",
          "text": [
            "282/282 - 1s - loss: 0.0193 - accuracy: 0.9901\n"
          ],
          "name": "stdout"
        },
        {
          "output_type": "execute_result",
          "data": {
            "text/plain": [
              "[0.01934094727039337, 0.9901330471038818]"
            ]
          },
          "metadata": {
            "tags": []
          },
          "execution_count": 13
        }
      ]
    },
    {
      "cell_type": "code",
      "metadata": {
        "id": "hdWFpwSd-52c",
        "colab_type": "code",
        "colab": {
          "base_uri": "https://localhost:8080/",
          "height": 51
        },
        "outputId": "1a22f0d7-e087-4dad-a4be-ab37becf09c3"
      },
      "source": [
        "model.evaluate(x_test,  y_test, verbose=2)"
      ],
      "execution_count": 18,
      "outputs": [
        {
          "output_type": "stream",
          "text": [
            "313/313 - 1s - loss: 0.7554 - accuracy: 0.8931\n"
          ],
          "name": "stdout"
        },
        {
          "output_type": "execute_result",
          "data": {
            "text/plain": [
              "[0.7553733587265015, 0.8931000232696533]"
            ]
          },
          "metadata": {
            "tags": []
          },
          "execution_count": 18
        }
      ]
    },
    {
      "cell_type": "code",
      "metadata": {
        "id": "RpMLRzsT9_6n",
        "colab_type": "code",
        "colab": {
          "base_uri": "https://localhost:8080/",
          "height": 51
        },
        "outputId": "1d9c2e0b-3ab5-41e6-f780-de836dd8b82f"
      },
      "source": [
        "model.fit(x_train_with0, y_train_with0 , epochs=1)"
      ],
      "execution_count": 20,
      "outputs": [
        {
          "output_type": "stream",
          "text": [
            "186/186 [==============================] - 1s 6ms/step - loss: 0.9820 - accuracy: 0.0027\n"
          ],
          "name": "stdout"
        },
        {
          "output_type": "execute_result",
          "data": {
            "text/plain": [
              "<tensorflow.python.keras.callbacks.History at 0x7fc28b9af438>"
            ]
          },
          "metadata": {
            "tags": []
          },
          "execution_count": 20
        }
      ]
    },
    {
      "cell_type": "code",
      "metadata": {
        "id": "O4WTPdxP-WCK",
        "colab_type": "code",
        "colab": {
          "base_uri": "https://localhost:8080/",
          "height": 51
        },
        "outputId": "e5198da9-e60d-4584-8009-0aff167c7356"
      },
      "source": [
        "model.evaluate(x_test,  y_test, verbose=2)"
      ],
      "execution_count": 21,
      "outputs": [
        {
          "output_type": "stream",
          "text": [
            "313/313 - 1s - loss: 21.2520 - accuracy: 0.4799\n"
          ],
          "name": "stdout"
        },
        {
          "output_type": "execute_result",
          "data": {
            "text/plain": [
              "[21.252016067504883, 0.4799000024795532]"
            ]
          },
          "metadata": {
            "tags": []
          },
          "execution_count": 21
        }
      ]
    },
    {
      "cell_type": "code",
      "metadata": {
        "id": "MWA8VogcoCTy",
        "colab_type": "code",
        "colab": {}
      },
      "source": [
        "probability_model = tf.keras.Sequential([\n",
        "  model,\n",
        "  tf.keras.layers.Softmax()\n",
        "])\n",
        "probability_model.summary()"
      ],
      "execution_count": 0,
      "outputs": []
    },
    {
      "cell_type": "code",
      "metadata": {
        "id": "pQ8seIYEoDwa",
        "colab_type": "code",
        "colab": {}
      },
      "source": [
        "probability_model(x_test[:32])"
      ],
      "execution_count": 0,
      "outputs": []
    }
  ]
}