{
  "nbformat": 4,
  "nbformat_minor": 0,
  "metadata": {
    "colab": {
      "name": "capsule.ipynb",
      "version": "0.3.2",
      "provenance": [],
      "include_colab_link": true
    },
    "kernelspec": {
      "name": "python3",
      "display_name": "Python 3"
    }
  },
  "cells": [
    {
      "cell_type": "markdown",
      "metadata": {
        "id": "view-in-github",
        "colab_type": "text"
      },
      "source": [
        "<a href=\"https://colab.research.google.com/github/bklooste/tensorflowcollab/blob/master/capsule.ipynb\" target=\"_parent\"><img src=\"https://colab.research.google.com/assets/colab-badge.svg\" alt=\"Open In Colab\"/></a>"
      ]
    },
    {
      "metadata": {
        "id": "ljU_D_yOv48R",
        "colab_type": "code",
        "colab": {
          "base_uri": "https://localhost:8080/",
          "height": 357
        },
        "outputId": "52081892-076b-447b-e86e-8148acc0bc17"
      },
      "cell_type": "code",
      "source": [
        "!pip install tf-nightly-gpu-2.0-preview\n",
        "\n",
        "# Load the Drive helper and mount\n",
        "from google.colab import drive\n",
        "\n",
        "# This will prompt for authorization.\n",
        "drive.mount('/content/drive')\n",
        "\n",
        "import tensorflow as tf"
      ],
      "execution_count": 1,
      "outputs": [
        {
          "output_type": "stream",
          "text": [
            "Requirement already satisfied: tf-nightly-gpu-2.0-preview in /usr/local/lib/python3.6/dist-packages (2.0.0.dev20190223)\n",
            "Requirement already satisfied: tb-nightly<1.14.0a0,>=1.13.0a0 in /usr/local/lib/python3.6/dist-packages (from tf-nightly-gpu-2.0-preview) (1.13.0a20190223)\n",
            "Requirement already satisfied: protobuf>=3.6.1 in /usr/local/lib/python3.6/dist-packages (from tf-nightly-gpu-2.0-preview) (3.6.1)\n",
            "Requirement already satisfied: six>=1.10.0 in /usr/local/lib/python3.6/dist-packages (from tf-nightly-gpu-2.0-preview) (1.11.0)\n",
            "Requirement already satisfied: tensorflow-estimator-2.0-preview in /usr/local/lib/python3.6/dist-packages (from tf-nightly-gpu-2.0-preview) (1.14.0.dev2019022300)\n",
            "Requirement already satisfied: grpcio>=1.8.6 in /usr/local/lib/python3.6/dist-packages (from tf-nightly-gpu-2.0-preview) (1.15.0)\n",
            "Requirement already satisfied: gast>=0.2.0 in /usr/local/lib/python3.6/dist-packages (from tf-nightly-gpu-2.0-preview) (0.2.2)\n",
            "Requirement already satisfied: wheel>=0.26 in /usr/local/lib/python3.6/dist-packages (from tf-nightly-gpu-2.0-preview) (0.33.0)\n",
            "Requirement already satisfied: astor>=0.6.0 in /usr/local/lib/python3.6/dist-packages (from tf-nightly-gpu-2.0-preview) (0.7.1)\n",
            "Requirement already satisfied: google-pasta>=0.1.2 in /usr/local/lib/python3.6/dist-packages (from tf-nightly-gpu-2.0-preview) (0.1.4)\n",
            "Requirement already satisfied: keras-applications>=1.0.6 in /usr/local/lib/python3.6/dist-packages (from tf-nightly-gpu-2.0-preview) (1.0.7)\n",
            "Requirement already satisfied: numpy<2.0,>=1.14.5 in /usr/local/lib/python3.6/dist-packages (from tf-nightly-gpu-2.0-preview) (1.14.6)\n",
            "Requirement already satisfied: termcolor>=1.1.0 in /usr/local/lib/python3.6/dist-packages (from tf-nightly-gpu-2.0-preview) (1.1.0)\n",
            "Requirement already satisfied: keras-preprocessing>=1.0.5 in /usr/local/lib/python3.6/dist-packages (from tf-nightly-gpu-2.0-preview) (1.0.9)\n",
            "Requirement already satisfied: absl-py>=0.1.6 in /usr/local/lib/python3.6/dist-packages (from tf-nightly-gpu-2.0-preview) (0.7.0)\n",
            "Requirement already satisfied: markdown>=2.6.8 in /usr/local/lib/python3.6/dist-packages (from tb-nightly<1.14.0a0,>=1.13.0a0->tf-nightly-gpu-2.0-preview) (3.0.1)\n",
            "Requirement already satisfied: werkzeug>=0.11.15 in /usr/local/lib/python3.6/dist-packages (from tb-nightly<1.14.0a0,>=1.13.0a0->tf-nightly-gpu-2.0-preview) (0.14.1)\n",
            "Requirement already satisfied: setuptools in /usr/local/lib/python3.6/dist-packages (from protobuf>=3.6.1->tf-nightly-gpu-2.0-preview) (40.8.0)\n",
            "Requirement already satisfied: h5py in /usr/local/lib/python3.6/dist-packages (from keras-applications>=1.0.6->tf-nightly-gpu-2.0-preview) (2.8.0)\n",
            "Drive already mounted at /content/drive; to attempt to forcibly remount, call drive.mount(\"/content/drive\", force_remount=True).\n"
          ],
          "name": "stdout"
        }
      ]
    },
    {
      "metadata": {
        "id": "4HTP9x_ov_q2",
        "colab_type": "code",
        "colab": {
          "base_uri": "https://localhost:8080/",
          "height": 850
        },
        "outputId": "47e306ad-d83d-4dc8-d97e-fec4fea10c80"
      },
      "cell_type": "code",
      "source": [
        "#check environment\n",
        "\n",
        "\n",
        "print(tf.__version__)\n",
        "!ls \"/content/drive/My Drive\""
      ],
      "execution_count": 2,
      "outputs": [
        {
          "output_type": "stream",
          "text": [
            "2.0.0-dev20190223\n",
            "'446642_1-Engagement letter - Initial.pdf'\n",
            "'Adventures and Skill Tree Groups.docx.gdoc'\n",
            "'BEN  KLOOSTERMAN.gdoc'\n",
            "'BHPB Challenge_TechBrief_Data Room Inventory_Nov172016.xlsx'\n",
            "'Challange Data'\n",
            "'Colab Notebooks'\n",
            "'Copy of Business Model Generation Canvas.gdraw'\n",
            "'Copy of price.gsheet'\n",
            "'Copy of Startup Financial Projections.gsheet'\n",
            " Corp.gdoc\n",
            "'CQRS Readmodel Diagram (1).html'\n",
            "'CQRS Readmodel Diagram.html'\n",
            "'CRUD Service.html'\n",
            "'darpa fast track'\n",
            "'English Essay (1).docx'\n",
            "'English Essay (1).docx.gdoc'\n",
            " Epic\n",
            "'Event Sourced (1).html'\n",
            "'Event Sourced.html'\n",
            "'Funeral Service  - Tjeerd Pieter KLoosterman.doc.gdoc'\n",
            " goat.csv\n",
            " goat.csv.gsheet\n",
            " Howard%20Robert%20E%20-%20Conan%2002%20-%20The%20Bloody%20Crown%20of%20Conan%20-%20FF.txt.gdoc\n",
            " Howard%20Robert%20E%20-%20Conan%2003%20-%20The%20Conquering%20Sword%20of%20Conan%20-%20FF.txt.gdoc\n",
            "'Info for Chess Parents.doc'\n",
            "'IR5 Adventures.gdoc'\n",
            "'Loadplus Server Architecture.docx'\n",
            "'Loadplus Server Architecture.docx.gdoc'\n",
            "'Lucy - Bye to Opa.gdoc'\n",
            " Movement-Records-for-PID42172549.pdf\n",
            "'Newme plan.gdoc'\n",
            " newtestbedhusky.zip\n",
            "'OR Runepowers.gsheet'\n",
            " pap.gdoc\n",
            " price.gsheet\n",
            "'SBTCAlienBBs (1).xlsx.gsheet'\n",
            " SBTCAlienBBs.xlsx\n",
            " SBTCAlienBBs.xlsx.gsheet\n",
            "'Software Architect and Programmer.docx'\n",
            " testphi2.zip\n",
            "'UAT Blast ADAMS MENTAL (1).xlsx.gsheet'\n",
            "'UAT Blast ADAMS MENTAL.xlsx'\n",
            "'UAT Blast ADAMS MENTAL.xlsx.gsheet'\n",
            "'Untitled Diagram (1).html'\n",
            "'Untitled Diagram.html'\n",
            "'Untitled document.gdoc'\n",
            "'Untitled spreadsheet.gsheet'\n",
            "'Year 5 and 6 Classroom Requirements 2017.pdf'\n"
          ],
          "name": "stdout"
        }
      ]
    }
  ]
}